{
 "cells": [
  {
   "cell_type": "code",
   "execution_count": 32,
   "id": "d16dda9a-cf69-407e-8c6a-0efecafa6ccd",
   "metadata": {},
   "outputs": [],
   "source": [
    "import numpy as np\n",
    "import pandas as pd\n",
    "from tensorflow.keras.models import Sequential\n",
    "from tensorflow.keras.layers import Dense, Dropout\n",
    "from sklearn.model_selection import GridSearchCV\n",
    "from scikeras.wrappers import KerasClassifier\n",
    "from sklearn.model_selection import train_test_split\n",
    "from sklearn.metrics import accuracy_score, precision_score\n",
    "from sklearn.metrics import confusion_matrix\n",
    "from sklearn.metrics import roc_curve, auc\n",
    "from sklearn.ensemble import RandomForestClassifier\n",
    "from sklearn.metrics import classification_report\n",
    "import seaborn as sns\n",
    "import matplotlib.pyplot as plt\n"
   ]
  },
  {
   "cell_type": "code",
   "execution_count": 10,
   "id": "7e9822ed-64f1-4182-b764-09927709e811",
   "metadata": {},
   "outputs": [
    {
     "name": "stdout",
     "output_type": "stream",
     "text": [
      "Training set size: 53216 samples\n",
      "Test set size: 22808 samples\n",
      "Fitting 3 folds for each of 27 candidates, totalling 81 fits\n"
     ]
    },
    {
     "name": "stderr",
     "output_type": "stream",
     "text": [
      "C:\\Users\\jefel\\Anaconda\\Lib\\site-packages\\keras\\src\\layers\\core\\dense.py:87: UserWarning: Do not pass an `input_shape`/`input_dim` argument to a layer. When using Sequential models, prefer using an `Input(shape)` object as the first layer in the model instead.\n",
      "  super().__init__(activity_regularizer=activity_regularizer, **kwargs)\n"
     ]
    },
    {
     "name": "stdout",
     "output_type": "stream",
     "text": [
      "Best: 0.8590273152464789 using {'batch_size': 40, 'epochs': 50, 'model__neurons': 5}\n",
      "0.8570 (+/-0.0008) with: {'batch_size': 10, 'epochs': 10, 'model__neurons': 1}\n",
      "0.8565 (+/-0.0015) with: {'batch_size': 10, 'epochs': 10, 'model__neurons': 5}\n",
      "0.8576 (+/-0.0012) with: {'batch_size': 10, 'epochs': 10, 'model__neurons': 10}\n",
      "0.8575 (+/-0.0019) with: {'batch_size': 10, 'epochs': 50, 'model__neurons': 1}\n",
      "0.8586 (+/-0.0019) with: {'batch_size': 10, 'epochs': 50, 'model__neurons': 5}\n",
      "0.8586 (+/-0.0013) with: {'batch_size': 10, 'epochs': 50, 'model__neurons': 10}\n",
      "0.8564 (+/-0.0012) with: {'batch_size': 10, 'epochs': 100, 'model__neurons': 1}\n",
      "0.8583 (+/-0.0015) with: {'batch_size': 10, 'epochs': 100, 'model__neurons': 5}\n",
      "0.8585 (+/-0.0015) with: {'batch_size': 10, 'epochs': 100, 'model__neurons': 10}\n",
      "0.8571 (+/-0.0019) with: {'batch_size': 20, 'epochs': 10, 'model__neurons': 1}\n",
      "0.8574 (+/-0.0013) with: {'batch_size': 20, 'epochs': 10, 'model__neurons': 5}\n",
      "0.8588 (+/-0.0027) with: {'batch_size': 20, 'epochs': 10, 'model__neurons': 10}\n",
      "0.8532 (+/-0.0023) with: {'batch_size': 20, 'epochs': 50, 'model__neurons': 1}\n",
      "0.8563 (+/-0.0010) with: {'batch_size': 20, 'epochs': 50, 'model__neurons': 5}\n",
      "0.8578 (+/-0.0018) with: {'batch_size': 20, 'epochs': 50, 'model__neurons': 10}\n",
      "0.8572 (+/-0.0017) with: {'batch_size': 20, 'epochs': 100, 'model__neurons': 1}\n",
      "0.8577 (+/-0.0016) with: {'batch_size': 20, 'epochs': 100, 'model__neurons': 5}\n",
      "0.8586 (+/-0.0019) with: {'batch_size': 20, 'epochs': 100, 'model__neurons': 10}\n",
      "0.8543 (+/-0.0038) with: {'batch_size': 40, 'epochs': 10, 'model__neurons': 1}\n",
      "0.8580 (+/-0.0018) with: {'batch_size': 40, 'epochs': 10, 'model__neurons': 5}\n",
      "0.8582 (+/-0.0018) with: {'batch_size': 40, 'epochs': 10, 'model__neurons': 10}\n",
      "0.7351 (+/-0.1667) with: {'batch_size': 40, 'epochs': 50, 'model__neurons': 1}\n",
      "0.8590 (+/-0.0020) with: {'batch_size': 40, 'epochs': 50, 'model__neurons': 5}\n",
      "0.8590 (+/-0.0020) with: {'batch_size': 40, 'epochs': 50, 'model__neurons': 10}\n",
      "0.8497 (+/-0.0130) with: {'batch_size': 40, 'epochs': 100, 'model__neurons': 1}\n",
      "0.8584 (+/-0.0018) with: {'batch_size': 40, 'epochs': 100, 'model__neurons': 5}\n",
      "0.8581 (+/-0.0010) with: {'batch_size': 40, 'epochs': 100, 'model__neurons': 10}\n"
     ]
    }
   ],
   "source": [
    "\n",
    "df = pd.read_csv('final_data.csv')\n",
    "\n",
    "df.shape\n",
    "\n",
    "# Set up  train/test split\n",
    "X = df.drop(columns=['readmitted'])\n",
    "y=df['readmitted']\n",
    "\n",
    "# X_train, X_temp, y_train, y_temp = train_test_split(X, y, test_size=0.4, random_state=42)\n",
    "# X_test, X_val, y_test, y_val = train_test_split(X_temp, y_temp, test_size=0.5, random_state=42)\n",
    "\n",
    "# print(f\"Training set size: {len(X_train)} samples\")\n",
    "# print(f\"Test set size: {len(X_test)} samples\")\n",
    "# print(f\"Validaion set size: {len(X_val)} samples\")\n",
    "\n",
    "X_train, X_test, y_train, y_test = train_test_split(X, y, test_size=0.3, random_state=42)\n",
    "\n",
    "print(f\"Training set size: {len(X_train)} samples\")\n",
    "print(f\"Test set size: {len(X_test)} samples\")\n",
    "\n",
    "# Step 1: Define the model as a function\n",
    "def create_model(neurons = 10, optimizer='adam'):\n",
    "    nn = Sequential()\n",
    "    nn.add(Dense(neurons, input_dim=20, activation='relu'))\n",
    "    # model.add(Dropout(dropout_rate))\n",
    "    nn.add(Dense(1, activation='sigmoid'))\n",
    "    nn.compile(loss='binary_crossentropy', optimizer=optimizer, metrics=['accuracy'])\n",
    "    return nn\n",
    "\n",
    "# Wrap the Keras model so it can be used by scikit-learn's GridSearchCV\n",
    "model = KerasClassifier(model=create_model, verbose=0)\n",
    "\n",
    "# Step 3: Define the parameter grid\n",
    "param_grid = {\n",
    "    'batch_size': [10, 20, 40],\n",
    "    'epochs': [10, 50, 100],\n",
    "    # 'dropout_rate': [0.0, 0.1, 0.2],\n",
    "    'model__neurons': [1, 5, 10]\n",
    "}\n",
    "\n",
    "# Step 4: Perform grid search\n",
    "grid = GridSearchCV(estimator=model, param_grid=param_grid, cv=3, n_jobs=-1, verbose=2)\n",
    "grid_result = grid.fit(X_train, y_train)\n",
    "\n",
    "# Summarize the results\n",
    "print(f\"Best: {grid_result.best_score_} using {grid_result.best_params_}\")\n",
    "means = grid_result.cv_results_['mean_test_score']\n",
    "stds = grid_result.cv_results_['std_test_score']\n",
    "params = grid_result.cv_results_['params']\n",
    "for mean, std, param in zip(means, stds, params):\n",
    "    print(f\"{mean:.4f} (+/-{std:.4f}) with: {param}\")\n"
   ]
  },
  {
   "cell_type": "code",
   "execution_count": 22,
   "id": "29919bca-62b9-44d0-847b-7923f38c6d90",
   "metadata": {},
   "outputs": [
    {
     "name": "stdout",
     "output_type": "stream",
     "text": [
      "Precision: 0.9869819658425892\n"
     ]
    }
   ],
   "source": [
    "# test_loss,test_acc = best_model.evaluate(X_test,y_test)\n",
    "# print('test accuracy:', test_acc)\n",
    "best_model = grid.best_estimator_\n",
    "y_pred_prob = best_model.predict(X_test)\n",
    "y_pred = (y_pred_prob > 0.5).astype(int)  # Convert probabilities to binary predictions\n",
    "precision = precision_score(y_test, y_pred)\n",
    "print(f\"Precision: {precision}\")"
   ]
  },
  {
   "cell_type": "code",
   "execution_count": 34,
   "id": "bdd95651-75d2-4994-bb9d-d81816b8925f",
   "metadata": {},
   "outputs": [
    {
     "data": {
      "image/png": "[encoded data removed]",
      "text/plain": [
       "<Figure size 800x600 with 2 Axes>"
      ]
     },
     "metadata": {},
     "output_type": "display_data"
    }
   ],
   "source": [
    "cm = confusion_matrix(y_test, y_pred)\n",
    "plt.figure(figsize=(8,6))\n",
    "sns.heatmap(cm, annot=True, cmap = 'coolwarm')\n",
    "plt.title('confusion matrix')\n",
    "plt.xlabel('predicted')\n",
    "plt.ylabel('actual')\n",
    "\n",
    "plt.show()\n",
    "\n",
    "# Confusion matrix shows we have no false positives (no one was predicted to be readmitted but actually never came in)\n",
    "# We did have false negatives (predicted to not be readmitted but ended up being readmitted)\n",
    "# For this model, we would prefer to have more false positives than false negatives. "
   ]
  },
  {
   "cell_type": "code",
   "execution_count": 36,
   "id": "c21f6a4c-f87a-40b3-a502-a9c31fdd091c",
   "metadata": {},
   "outputs": [
    {
     "data": {
      "text/plain": [
       "0.9869819658425892"
      ]
     },
     "execution_count": 36,
     "metadata": {},
     "output_type": "execute_result"
    }
   ],
   "source": [
    "tp = cm[1,1]\n",
    "tn = cm[0,0]\n",
    "fp = cm[1,0]\n",
    "fn = cm[0,1]\n",
    "\n",
    "recall = tp / (tp + fn)\n",
    "recall"
   ]
  },
  {
   "cell_type": "code",
   "execution_count": 44,
   "id": "bf5f61f1-e02d-4e31-b832-ca2fc02403a3",
   "metadata": {},
   "outputs": [],
   "source": [
    "# Convert to DataFrame for easy manipulation\n",
    "X_test_df = pd.DataFrame(X_test)\n",
    "y_test_df = pd.Series(y_test, name='TrueLabel')\n",
    "y_pred_df = pd.Series(y_pred, name='PredictedLabel')\n",
    "\n",
    "# Combine into one DataFrame\n",
    "results = pd.concat([X_test_df, y_test_df, y_pred_df], axis=1)\n",
    "\n",
    "# Extract false positives and false negatives\n",
    "false_positives = results[(results['TrueLabel'] == 0) & (results['PredictedLabel'] == 1)]\n",
    "false_negatives = results[(results['TrueLabel'] == 1) & (results['PredictedLabel'] == 0)]\n",
    "data_falses = pd.concat([false_positives, false_negatives])\n",
    "\n",
    "data_falses.to_csv('data_falses.csv', index = False)"
   ]
  },
  {
   "cell_type": "code",
   "execution_count": null,
   "id": "f6f99dae-9f92-4f5e-a0cc-e955646184d4",
   "metadata": {},
   "outputs": [],
   "source": [
    "# Compute ROC curve and ROC area for each class\n",
    "fpr, tpr, _ = roc_curve(y_test, y_pred_prob)\n",
    "roc_auc = auc(fpr, tpr)\n",
    "\n",
    "# Plot ROC curve\n",
    "plt.figure()\n",
    "plt.plot(fpr, tpr, color='darkorange', lw=2, label=f'AUC = {roc_auc:.2f}')\n",
    "plt.plot([0, 1], [0, 1], color='navy', lw=2, linestyle='--')\n",
    "plt.xlim([0.0, 1.0])\n",
    "plt.ylim([0.0, 1.05])\n",
    "plt.xlabel('False Positive Rate')\n",
    "plt.ylabel('True Positive Rate')\n",
    "plt.title('Receiver Operating Characteristic (ROC) Curve')\n",
    "plt.legend(loc=\"lower right\")\n",
    "plt.show()"
   ]
  }
 ],
 "metadata": {
  "kernelspec": {
   "display_name": "Python 3 (ipykernel)",
   "language": "python",
   "name": "python3"
  },
  "language_info": {
   "codemirror_mode": {
    "name": "ipython",
    "version": 3
   },
   "file_extension": ".py",
   "mimetype": "text/x-python",
   "name": "python",
   "nbconvert_exporter": "python",
   "pygments_lexer": "ipython3",
   "version": "3.11.7"
  }
 },
 "nbformat": 4,
 "nbformat_minor": 5
}
